{
 "cells": [
  {
   "cell_type": "code",
   "execution_count": 1,
   "metadata": {},
   "outputs": [],
   "source": [
    "%load_ext autoreload\n",
    "%autoreload 2"
   ]
  },
  {
   "cell_type": "code",
   "execution_count": 2,
   "metadata": {},
   "outputs": [],
   "source": [
    "import spacy\n",
    "from forcy import render_graph, doc_to_graph_json"
   ]
  },
  {
   "cell_type": "code",
   "execution_count": 3,
   "metadata": {},
   "outputs": [],
   "source": [
    "nlp = spacy.load(\"en_core_web_md\")"
   ]
  },
  {
   "cell_type": "code",
   "execution_count": 4,
   "metadata": {},
   "outputs": [
    {
     "data": {
      "text/plain": [
       "{'nodes': [{'id': '0', 'name': 'this', 'pos': 'DET', 'group': 'DET'},\n",
       "  {'id': '5', 'name': 'is', 'pos': 'AUX', 'group': 'AUX'},\n",
       "  {'id': '8', 'name': 'just', 'pos': 'ADV', 'group': 'ADV'},\n",
       "  {'id': '13', 'name': 'another', 'pos': 'DET', 'group': 'DET'},\n",
       "  {'id': '21', 'name': 'sentence', 'pos': 'NOUN', 'group': 'NOUN'}],\n",
       " 'links': [{'source': '5', 'target': '0', 'value': 1},\n",
       "  {'source': '5', 'target': '21', 'value': 1},\n",
       "  {'source': '21', 'target': '8', 'value': 1},\n",
       "  {'source': '21', 'target': '13', 'value': 1}]}"
      ]
     },
     "execution_count": 4,
     "metadata": {},
     "output_type": "execute_result"
    }
   ],
   "source": [
    "d = nlp(\"this is just another sentence\")\n",
    "doc_to_graph_json(d)"
   ]
  },
  {
   "cell_type": "code",
   "execution_count": 5,
   "metadata": {},
   "outputs": [
    {
     "data": {
      "text/html": [
       "<style>.node {\n",
       "  stroke: #fff;\n",
       "  stroke-width: 1.5px;\n",
       "  fill: white;\n",
       "}\n",
       "\n",
       ".link {\n",
       "  stroke: #999;\n",
       "  stroke-opacity: .6;\n",
       "}\n",
       "\n",
       "text {\n",
       "  font-family: sans-serif;\n",
       "  font-size: 14px;\n",
       "}</style><script src=\"https://d3js.org/d3.v4.min.js\"></script><script src=\"//d3js.org/d3-scale-chromatic.v0.3.min.js\"></script><div id='randoc4629236'></div><script>var width = 700,\n",
       "\theight = 450;\n",
       "\n",
       "var svg = d3.select(\"#randoc4629236\").append(\"svg\").style(\"width\", width).style(\"height\", height);\n",
       "\n",
       "var color = d3.scaleOrdinal(d3.schemePastel1);\n",
       "\n",
       "var simulation = d3.forceSimulation()\n",
       "    .force(\"link\", d3.forceLink().id(function(d) { return d.id; }).distance(70))\n",
       "    .force(\"charge\", d3.forceManyBody().strength(-150))\n",
       "    .force(\"center\", d3.forceCenter(width / 2, height / 2));\n",
       "\n",
       "var graph = {'nodes': [{'id': '0', 'name': 'i', 'pos': 'PRON', 'group': 'PRON'}, {'id': '2', 'name': 'would', 'pos': 'VERB', 'group': 'VERB'}, {'id': '8', 'name': 'like', 'pos': 'VERB', 'group': 'VERB'}, {'id': '13', 'name': 'to', 'pos': 'PART', 'group': 'PART'}, {'id': '16', 'name': 'book', 'pos': 'VERB', 'group': 'VERB'}, {'id': '21', 'name': 'a', 'pos': 'DET', 'group': 'DET'}, {'id': '23', 'name': 'train', 'pos': 'NOUN', 'group': 'NOUN'}, {'id': '29', 'name': 'from', 'pos': 'ADP', 'group': 'ADP'}, {'id': '34', 'name': 'amsterdam', 'pos': 'PROPN', 'group': 'PROPN'}, {'id': '44', 'name': 'to', 'pos': 'ADP', 'group': 'ADP'}, {'id': '47', 'name': 'berlin', 'pos': 'PROPN', 'group': 'PROPN'}], 'links': [{'source': '8', 'target': '0', 'value': 1}, {'source': '8', 'target': '2', 'value': 1}, {'source': '8', 'target': '16', 'value': 1}, {'source': '16', 'target': '13', 'value': 1}, {'source': '16', 'target': '23', 'value': 1}, {'source': '16', 'target': '44', 'value': 1}, {'source': '23', 'target': '21', 'value': 1}, {'source': '23', 'target': '29', 'value': 1}, {'source': '29', 'target': '34', 'value': 1}, {'source': '44', 'target': '47', 'value': 1}]};\n",
       "\n",
       "var link = svg.append(\"g\")\n",
       "  .attr(\"class\", \"link\")\n",
       "  .selectAll(\"line\")\n",
       "  .data(graph.links)\n",
       "  .enter().append(\"line\")\n",
       "  .attr(\"stroke-width\", function(d) { return 3; });\n",
       "\n",
       "var node = svg.append(\"g\")\n",
       "  .attr(\"class\", \"nodes\")\n",
       "  .selectAll(\"g\")\n",
       "  .data(graph.nodes)\n",
       "  .enter()\n",
       "  .append(\"g\");\n",
       "\n",
       "var circles = node.append(\"circle\")\n",
       "  .attr(\"r\", 20)\n",
       "  .attr(\"fill\", function(d) { return color(d.group); })\n",
       "  .attr(\"stroke\", function(d) { return d3.color(color(d.group)).darker(); })\n",
       "  .attr(\"stroke-width\", 2)\n",
       "  .call(d3.drag()\n",
       "\t  .on(\"start\", dragstarted)\n",
       "\t  .on(\"drag\", dragged)\n",
       "\t  .on(\"end\", dragended));\n",
       "\n",
       "var labels = node.append(\"text\")\n",
       "  .text(function(d) {\n",
       "\treturn d.name;\n",
       "  })\n",
       "  .attr(\"text-anchor\", \"middle\")\n",
       "  .attr(\"dy\", \".35em\");\n",
       "\n",
       "node.append(\"title\").text(function(d) { return d.name; });\n",
       "\n",
       "simulation.nodes(graph.nodes).on(\"tick\", ticked);\n",
       "\n",
       "simulation.force(\"link\").links(graph.links);\n",
       "\n",
       "function ticked() {\n",
       "\tlink\n",
       "\t\t.attr(\"x1\", function(d) { return d.source.x; })\n",
       "\t\t.attr(\"y1\", function(d) { return d.source.y; })\n",
       "\t\t.attr(\"x2\", function(d) { return d.target.x; })\n",
       "\t\t.attr(\"y2\", function(d) { return d.target.y; });\n",
       "\n",
       "\tnode\n",
       "\t\t.attr(\"transform\", function(d) {\n",
       "\t\t  return \"translate(\" + d.x + \",\" + d.y + \")\";\n",
       "\t\t})\n",
       "}\n",
       "\n",
       "function dragstarted(d) {\n",
       "  if (!d3.event.active) simulation.alphaTarget(0.3).restart();\n",
       "  d.fx = d.x;\n",
       "  d.fy = d.y;\n",
       "}\n",
       "\n",
       "function dragged(d) {\n",
       "  d.fx = d3.event.x;\n",
       "  d.fy = d3.event.y;\n",
       "}\n",
       "\n",
       "function dragended(d) {\n",
       "  if (!d3.event.active) simulation.alphaTarget(0);\n",
       "  d.fx = null;\n",
       "  d.fy = null;\n",
       "}\n",
       "</script>"
      ],
      "text/plain": [
       "<IPython.core.display.HTML object>"
      ]
     },
     "execution_count": 5,
     "metadata": {},
     "output_type": "execute_result"
    }
   ],
   "source": [
    "render_graph(nlp(\"i would like to book a train from amsterdam to berlin\"))"
   ]
  },
  {
   "cell_type": "code",
   "execution_count": 9,
   "metadata": {},
   "outputs": [
    {
     "data": {
      "text/html": [
       "<style>.node {\n",
       "  stroke: #fff;\n",
       "  stroke-width: 1.5px;\n",
       "  fill: white;\n",
       "}\n",
       "\n",
       ".link {\n",
       "  stroke: #999;\n",
       "  stroke-opacity: .6;\n",
       "}\n",
       "\n",
       "text {\n",
       "  font-family: sans-serif;\n",
       "  font-size: 14px;\n",
       "}</style><script src=\"https://d3js.org/d3.v4.min.js\"></script><script src=\"//d3js.org/d3-scale-chromatic.v0.3.min.js\"></script><div id='randoc36582b3'></div><script>var width = 700,\n",
       "\theight = 450;\n",
       "\n",
       "var svg = d3.select(\"#randoc36582b3\").append(\"svg\").style(\"width\", width).style(\"height\", height);\n",
       "\n",
       "var color = d3.scaleOrdinal(d3.schemePastel1);\n",
       "\n",
       "var simulation = d3.forceSimulation()\n",
       "    .force(\"link\", d3.forceLink().id(function(d) { return d.id; }).distance(70))\n",
       "    .force(\"charge\", d3.forceManyBody().strength(-150))\n",
       "    .force(\"center\", d3.forceCenter(width / 2, height / 2));\n",
       "\n",
       "var graph = {'nodes': [{'id': '0', 'name': 'get', 'pos': 'AUX', 'group': 'AUX'}, {'id': '4', 'name': 'me', 'pos': 'PRON', 'group': 'PRON'}, {'id': '7', 'name': 'from', 'pos': 'ADP', 'group': 'ADP'}, {'id': '12', 'name': 'frankfurt', 'pos': 'PROPN', 'group': 'PROPN'}, {'id': '22', 'name': 'to', 'pos': 'ADP', 'group': 'ADP'}, {'id': '25', 'name': 'berlin', 'pos': 'PROPN', 'group': 'PROPN'}, {'id': '32', 'name': 'to', 'pos': 'ADP', 'group': 'ADP'}, {'id': '35', 'name': 'singapoore', 'pos': 'PROPN', 'group': 'PROPN'}], 'links': [{'source': '0', 'target': '4', 'value': 1}, {'source': '0', 'target': '7', 'value': 1}, {'source': '0', 'target': '22', 'value': 1}, {'source': '0', 'target': '35', 'value': 1}, {'source': '7', 'target': '12', 'value': 1}, {'source': '22', 'target': '25', 'value': 1}, {'source': '35', 'target': '32', 'value': 1}]};\n",
       "\n",
       "var link = svg.append(\"g\")\n",
       "  .attr(\"class\", \"link\")\n",
       "  .selectAll(\"line\")\n",
       "  .data(graph.links)\n",
       "  .enter().append(\"line\")\n",
       "  .attr(\"stroke-width\", function(d) { return 3; });\n",
       "\n",
       "var node = svg.append(\"g\")\n",
       "  .attr(\"class\", \"nodes\")\n",
       "  .selectAll(\"g\")\n",
       "  .data(graph.nodes)\n",
       "  .enter()\n",
       "  .append(\"g\");\n",
       "\n",
       "var circles = node.append(\"circle\")\n",
       "  .attr(\"r\", 20)\n",
       "  .attr(\"fill\", function(d) { return color(d.group); })\n",
       "  .attr(\"stroke\", function(d) { return d3.color(color(d.group)).darker(); })\n",
       "  .attr(\"stroke-width\", 2)\n",
       "  .call(d3.drag()\n",
       "\t  .on(\"start\", dragstarted)\n",
       "\t  .on(\"drag\", dragged)\n",
       "\t  .on(\"end\", dragended));\n",
       "\n",
       "var labels = node.append(\"text\")\n",
       "  .text(function(d) {\n",
       "\treturn d.name;\n",
       "  })\n",
       "  .attr(\"text-anchor\", \"middle\")\n",
       "  .attr(\"dy\", \".35em\");\n",
       "\n",
       "node.append(\"title\").text(function(d) { return d.name; });\n",
       "\n",
       "simulation.nodes(graph.nodes).on(\"tick\", ticked);\n",
       "\n",
       "simulation.force(\"link\").links(graph.links);\n",
       "\n",
       "function ticked() {\n",
       "\tlink\n",
       "\t\t.attr(\"x1\", function(d) { return d.source.x; })\n",
       "\t\t.attr(\"y1\", function(d) { return d.source.y; })\n",
       "\t\t.attr(\"x2\", function(d) { return d.target.x; })\n",
       "\t\t.attr(\"y2\", function(d) { return d.target.y; });\n",
       "\n",
       "\tnode\n",
       "\t\t.attr(\"transform\", function(d) {\n",
       "\t\t  return \"translate(\" + d.x + \",\" + d.y + \")\";\n",
       "\t\t})\n",
       "}\n",
       "\n",
       "function dragstarted(d) {\n",
       "  if (!d3.event.active) simulation.alphaTarget(0.3).restart();\n",
       "  d.fx = d.x;\n",
       "  d.fy = d.y;\n",
       "}\n",
       "\n",
       "function dragged(d) {\n",
       "  d.fx = d3.event.x;\n",
       "  d.fy = d3.event.y;\n",
       "}\n",
       "\n",
       "function dragended(d) {\n",
       "  if (!d3.event.active) simulation.alphaTarget(0);\n",
       "  d.fx = null;\n",
       "  d.fy = null;\n",
       "}\n",
       "</script>"
      ],
      "text/plain": [
       "<IPython.core.display.HTML object>"
      ]
     },
     "execution_count": 9,
     "metadata": {},
     "output_type": "execute_result"
    }
   ],
   "source": [
    "render_graph(nlp(\"get me from frankfurt to berlin to singapoore\"))"
   ]
  },
  {
   "cell_type": "code",
   "execution_count": 14,
   "metadata": {},
   "outputs": [],
   "source": [
    "from spacy import displacy"
   ]
  },
  {
   "cell_type": "code",
   "execution_count": 16,
   "metadata": {},
   "outputs": [
    {
     "data": {
      "text/html": [
       "<span class=\"tex2jax_ignore\"><svg xmlns=\"http://www.w3.org/2000/svg\" xmlns:xlink=\"http://www.w3.org/1999/xlink\" xml:lang=\"en\" id=\"7855db7491b448909f4dfd4fb4abbb2a-0\" class=\"displacy\" width=\"750\" height=\"312.0\" direction=\"ltr\" style=\"max-width: none; height: 312.0px; color: #000000; background: #ffffff; font-family: Arial; direction: ltr\">\n",
       "<text class=\"displacy-token\" fill=\"currentColor\" text-anchor=\"middle\" y=\"222.0\">\n",
       "    <tspan class=\"displacy-word\" fill=\"currentColor\" x=\"50\">give</tspan>\n",
       "    <tspan class=\"displacy-tag\" dy=\"2em\" fill=\"currentColor\" x=\"50\">VERB</tspan>\n",
       "</text>\n",
       "\n",
       "<text class=\"displacy-token\" fill=\"currentColor\" text-anchor=\"middle\" y=\"222.0\">\n",
       "    <tspan class=\"displacy-word\" fill=\"currentColor\" x=\"225\">me</tspan>\n",
       "    <tspan class=\"displacy-tag\" dy=\"2em\" fill=\"currentColor\" x=\"225\">PRON</tspan>\n",
       "</text>\n",
       "\n",
       "<text class=\"displacy-token\" fill=\"currentColor\" text-anchor=\"middle\" y=\"222.0\">\n",
       "    <tspan class=\"displacy-word\" fill=\"currentColor\" x=\"400\">a</tspan>\n",
       "    <tspan class=\"displacy-tag\" dy=\"2em\" fill=\"currentColor\" x=\"400\">DET</tspan>\n",
       "</text>\n",
       "\n",
       "<text class=\"displacy-token\" fill=\"currentColor\" text-anchor=\"middle\" y=\"222.0\">\n",
       "    <tspan class=\"displacy-word\" fill=\"currentColor\" x=\"575\">recipe</tspan>\n",
       "    <tspan class=\"displacy-tag\" dy=\"2em\" fill=\"currentColor\" x=\"575\">NOUN</tspan>\n",
       "</text>\n",
       "\n",
       "<g class=\"displacy-arrow\">\n",
       "    <path class=\"displacy-arc\" id=\"arrow-7855db7491b448909f4dfd4fb4abbb2a-0-0\" stroke-width=\"2px\" d=\"M70,177.0 C70,89.5 220.0,89.5 220.0,177.0\" fill=\"none\" stroke=\"currentColor\"/>\n",
       "    <text dy=\"1.25em\" style=\"font-size: 0.8em; letter-spacing: 1px\">\n",
       "        <textPath xlink:href=\"#arrow-7855db7491b448909f4dfd4fb4abbb2a-0-0\" class=\"displacy-label\" startOffset=\"50%\" side=\"left\" fill=\"currentColor\" text-anchor=\"middle\">dative</textPath>\n",
       "    </text>\n",
       "    <path class=\"displacy-arrowhead\" d=\"M220.0,179.0 L228.0,167.0 212.0,167.0\" fill=\"currentColor\"/>\n",
       "</g>\n",
       "\n",
       "<g class=\"displacy-arrow\">\n",
       "    <path class=\"displacy-arc\" id=\"arrow-7855db7491b448909f4dfd4fb4abbb2a-0-1\" stroke-width=\"2px\" d=\"M420,177.0 C420,89.5 570.0,89.5 570.0,177.0\" fill=\"none\" stroke=\"currentColor\"/>\n",
       "    <text dy=\"1.25em\" style=\"font-size: 0.8em; letter-spacing: 1px\">\n",
       "        <textPath xlink:href=\"#arrow-7855db7491b448909f4dfd4fb4abbb2a-0-1\" class=\"displacy-label\" startOffset=\"50%\" side=\"left\" fill=\"currentColor\" text-anchor=\"middle\">det</textPath>\n",
       "    </text>\n",
       "    <path class=\"displacy-arrowhead\" d=\"M420,179.0 L412,167.0 428,167.0\" fill=\"currentColor\"/>\n",
       "</g>\n",
       "\n",
       "<g class=\"displacy-arrow\">\n",
       "    <path class=\"displacy-arc\" id=\"arrow-7855db7491b448909f4dfd4fb4abbb2a-0-2\" stroke-width=\"2px\" d=\"M70,177.0 C70,2.0 575.0,2.0 575.0,177.0\" fill=\"none\" stroke=\"currentColor\"/>\n",
       "    <text dy=\"1.25em\" style=\"font-size: 0.8em; letter-spacing: 1px\">\n",
       "        <textPath xlink:href=\"#arrow-7855db7491b448909f4dfd4fb4abbb2a-0-2\" class=\"displacy-label\" startOffset=\"50%\" side=\"left\" fill=\"currentColor\" text-anchor=\"middle\">dobj</textPath>\n",
       "    </text>\n",
       "    <path class=\"displacy-arrowhead\" d=\"M575.0,179.0 L583.0,167.0 567.0,167.0\" fill=\"currentColor\"/>\n",
       "</g>\n",
       "</svg></span>"
      ],
      "text/plain": [
       "<IPython.core.display.HTML object>"
      ]
     },
     "metadata": {},
     "output_type": "display_data"
    }
   ],
   "source": [
    "displacy.render(nlp(\"give me a recipe\"))"
   ]
  },
  {
   "cell_type": "code",
   "execution_count": null,
   "metadata": {},
   "outputs": [],
   "source": []
  }
 ],
 "metadata": {
  "kernelspec": {
   "display_name": "Python 3",
   "language": "python",
   "name": "python3"
  },
  "language_info": {
   "codemirror_mode": {
    "name": "ipython",
    "version": 3
   },
   "file_extension": ".py",
   "mimetype": "text/x-python",
   "name": "python",
   "nbconvert_exporter": "python",
   "pygments_lexer": "ipython3",
   "version": "3.7.7"
  }
 },
 "nbformat": 4,
 "nbformat_minor": 4
}
